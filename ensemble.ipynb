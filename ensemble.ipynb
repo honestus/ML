{
 "cells": [
  {
   "cell_type": "markdown",
   "metadata": {},
   "source": [
    "# Pill 19 WIKI Side Quest: Ensemble"
   ]
  },
  {
   "cell_type": "markdown",
   "metadata": {},
   "source": [
    "Investigate why ensemble learning works. Focus on one of the models. For example in Bagging it is said that \"Bagging performance improvement is due to the reduction of the variace of the classifier while maintaining its bias\""
   ]
  },
  {
   "cell_type": "markdown",
   "metadata": {},
   "source": [
    "#### by Toni Miranda"
   ]
  },
  {
   "cell_type": "markdown",
   "metadata": {},
   "source": [
    "This notebook mix notebooks posted by David, Huang, Markos, Indra and Gonzalo, revising different ensemble methods (I have also added Random Subspace Method).\n",
    "\n",
    "*(Gonzalo) Note: I think Iris data set with 2 features is not the best example to show the advantages of ensemble learning because of  ensemble methods (like Random Forest) improve the performance for large datasets and using a lot of features due to randomization and diversity. However, this way we can see the differences of models, representing the performance in 2D. Anyway, Iris is a toy example, so the result is also good.*"
   ]
  },
  {
   "cell_type": "markdown",
   "metadata": {},
   "source": [
    "## Why ensemble learning works?\n",
    "**(David)**\n",
    "\n",
    "Ensemble learning helps improve machine learning results by combining several models. This approach allows the production of better predictive performance compared to a single model. That is why ensemble methods placed first in many prestigious machine learning competitions, such as the Netflix Competition, KDD 2009, and Kaggle."
   ]
  },
  {
   "cell_type": "markdown",
   "metadata": {},
   "source": [
    "Ensemble methods are meta-algorithms that combine several machine learning techniques into one predictive model in order to decrease variance (bagging), bias (boosting), or improve predictions (stacking).\n",
    "\n",
    "Ensemble methods can be divided into:\n",
    "\n",
    "- **Bagging (or Bootstrapping aggregation):** Horitzontal aggregation. In bagging different models, obtained by training independent bootstrapped (resampling with replacement) elements, are combined using an aggregation technique (such as majority voting) in order to take the final decision.\n",
    "\n",
    "- **Boosting:**. Horitzontal aggregation. Each component in the aggregation depends on all the others. In Boosting algorithms each classifier is trained on data, taking into account the previous classifiers' success. After each training step, misclassified data increases its weights to emphasise the most difficult cases. In this way, subsequent learners will focus on them during their training. In this kind of techniques the two most well known approaches for linking members are the notions of residual (gradient boosting, XGBoost) or statistical resampling (adaptive boosting aka AdaBoost). \n",
    "\n",
    "- **Stacking:** Vertical aggregation. In this kind of techniques the output of one member of the ensemble is the input for the next member. We can use different model architectures and stack one on the other to improve the final performance.\n",
    "\n",
    "The basic motivation of parallel methods is to exploit independence between the base learners since the error can be reduced dramatically by averaging.\n",
    "Most ensemble methods use a single base learning algorithm to produce homogeneous base learners, i.e. learners of the same type, leading to homogeneous ensembles.\n",
    "\n",
    "There are also some methods that use heterogeneous learners, i.e. learners of different types, leading to heterogeneous ensembles. In order for ensemble methods to be more accurate than any of its individual members, the base learners have to be as accurate as possible and as diverse as possible."
   ]
  },
  {
   "cell_type": "markdown",
   "metadata": {},
   "source": [
    "## Why ensemble learning?\n",
    "**(David)**\n",
    "\n",
    "To understand that why the generalization ability of an ensemble is usually much stronger than that of a single learner, there are three main reasons:\n",
    "- The first reason is that, the training data might not provide sufficient information for choosing a single best learner. For example, there may be many learners perform equally well on the training data set. Thus, combining these learners may be a better choice. \n",
    "- The second reason is that, the search processes of the learning algorithms might be imperfect.For example, even if there exists a unique best hypothesis, it might be difficult to achieve since running the algorithms result in sub-optimal hypotheses. Thus, ensembles can compensate for such imperfect search processes. \n",
    "- The third reason is that, the hypothesis space being searched might not contain the true target function, while ensembles can give some good approximation. For example, it is well-known that the classification boundaries of decision trees are linear segments parallel to coordinate axes. If the target classification boundary is a smooth diagonal line, using a single decision tree cannot lead to a good result yet a good approximation can be achieved by combining a set of decision trees."
   ]
  },
  {
   "cell_type": "markdown",
   "metadata": {},
   "source": [
    "# Bagging \n",
    "\n",
    "**(David)** \n",
    "\n",
    "Bootstrap aggregating, often abbreviated as bagging, is a involves having each model in the ensemble vote with equal weight. In order to promote model variance, bagging trains each model in the ensemble using a randomly drawn subset of the training set. As an example, the random forest algorithm combines random decision trees with bagging to achieve very high classification accuracy."
   ]
  },
  {
   "cell_type": "markdown",
   "metadata": {},
   "source": [
    "One way to reduce the variance of an estimate is to average together multiple estimates. For example, we can train M different trees on different subsets of the data (chosen randomly with replacement) and compute the ensemble:\n",
    "$$ f(x) = \\frac{1}{M} \\sum_{m=1}^{M}f_m(x)$$\n",
    "\n",
    "Bagging uses bootstrap sampling to obtain the data subsets for training the base learners. For aggregating the outputs of base learners, bagging uses voting for classification and averaging for regression.\n",
    "\n",
    "![alt text](algo_bagging.png)\n",
    "<p style=\"text-align: center;\">Figure 1. Bagging Algorithm .</p>"
   ]
  },
  {
   "cell_type": "markdown",
   "metadata": {},
   "source": [
    "### Python code\n",
    "\n",
    "**(Huang)**\n",
    "\n",
    "We can study bagging in the context of classification on the Iris dataset. We can choose two base estimators: a decision tree and a k-NN classifier. Figure 1 shows the learned decision boundary of the base estimators as well as their bagging ensembles applied to the Iris dataset.\n",
    "\n",
    "The following code shows the accuracy of using a single estimator of Decision Tree and KNN, it also prints the accuracy of using Bagging classfier based on 10 estimators of Decision Tree and KNN with 0.8 subsampling of training data and 0.8 subsampling of features. Such length of estimators(10), subsamples size(0.8) and subsamples featrues(0.8) are followed by the previously David's work. Also, by default in the Sklearn tutorial page the lenght of estimator is 10 as well. More details, it can be found by [Sscikit-learn Bagging Classifier tutorial page](http://scikit-learn.org/stable/modules/generated/sklearn.ensemble.BaggingClassifier.html)"
   ]
  },
  {
   "cell_type": "code",
   "execution_count": 1,
   "metadata": {},
   "outputs": [
    {
     "name": "stdout",
     "output_type": "stream",
     "text": [
      "The accuracy of using Desicion Tree is: 0.879901960784\n",
      "The accuracy of using KNN is: 0.953839869281\n",
      "The accuracy of using Bagging technique based on Desicion Tree is: 0.940767973856\n",
      "The accuracy of using Bagging technique based on KNN is: 0.960375816993\n"
     ]
    }
   ],
   "source": [
    "from sklearn.ensemble import BaggingClassifier\n",
    "from sklearn.neighbors import KNeighborsClassifier\n",
    "import matplotlib.pyplot as plt\n",
    "from mpl_toolkits.mplot3d import Axes3D\n",
    "from sklearn import datasets\n",
    "from sklearn import tree\n",
    "from sklearn.model_selection import cross_val_score\n",
    "from mlxtend.plotting import plot_decision_regions\n",
    "import matplotlib.gridspec as gridspec\n",
    "import itertools\n",
    "\n",
    "# import some data to play with\n",
    "iris = datasets.load_iris()\n",
    "X = iris.data[:, 1:3]  # we only take the first two features.\n",
    "y = iris.target\n",
    "\n",
    "#Single estimator Decision Tree \n",
    "clf_tree = tree.DecisionTreeClassifier(random_state=0)\n",
    "clf_tree.fit(X, y)\n",
    "scores_tree = cross_val_score(clf_tree, X, y)\n",
    "print(\"The accuracy of using Desicion Tree is:\",scores_tree.mean())\n",
    "\n",
    "#Single estimator KNeighbors(KNN)\n",
    "clf_KNN= KNeighborsClassifier()\n",
    "clf_KNN.fit(X, y)\n",
    "scores_KNN = cross_val_score(clf_KNN, X, y)\n",
    "print(\"The accuracy of using KNN is:\",scores_KNN.mean())\n",
    "\n",
    "# DecisionTreeClassifier 15 estimators\n",
    "clf_bagging_tree = BaggingClassifier(base_estimator=tree.DecisionTreeClassifier(random_state=0),n_estimators=15, random_state=0)\n",
    "clf_bagging_tree.fit(X,y)\n",
    "scores_bagging_tree = cross_val_score(clf_bagging_tree, X, y)\n",
    "print(\"The accuracy of using Bagging technique based on Desicion Tree is:\",scores_bagging_tree.mean())\n",
    "\n",
    "# KNeighborsClassifier 15 estimators\n",
    "clf_bagging_KNN = BaggingClassifier(KNeighborsClassifier(), n_estimators=15, random_state=0)\n",
    "clf_bagging_KNN.fit(X,y)\n",
    "scores_bagging_KNN = cross_val_score(clf_bagging_KNN, X, y)\n",
    "print(\"The accuracy of using Bagging technique based on KNN is:\",scores_bagging_KNN.mean())"
   ]
  },
  {
   "cell_type": "code",
   "execution_count": 2,
   "metadata": {},
   "outputs": [
    {
     "data": {
      "image/png": "[encoded data removed]",
      "text/plain": [
       "<matplotlib.figure.Figure at 0x7f1406c3d9e8>"
      ]
     },
     "metadata": {},
     "output_type": "display_data"
    }
   ],
   "source": [
    "%matplotlib inline\n",
    "gs = gridspec.GridSpec(2, 2)\n",
    "\n",
    "fig = plt.figure(figsize=(13,9))\n",
    "\n",
    "for clf, lab, grd in zip([clf_tree, clf_KNN, clf_bagging_tree, clf_bagging_KNN], \n",
    "                         ['Decision Tree', \n",
    "                          'KNN', \n",
    "                          'Bagging Tree',\n",
    "                          'Bagging KNN'],\n",
    "                          itertools.product([0, 1], repeat=2)):\n",
    "\n",
    "    clf.fit(X, y)\n",
    "    ax = plt.subplot(gs[grd[0], grd[1]])\n",
    "    fig = plot_decision_regions(X=X, y=y, clf=clf)\n",
    "    plt.title(lab)"
   ]
  },
  {
   "cell_type": "markdown",
   "metadata": {},
   "source": [
    "### Random Forest\n",
    "\n",
    "**(David)**\n",
    "\n",
    "In random forests, each tree in the ensemble is built from a sample drawn with replacement (i.e. a bootstrap sample) from the training set. In addition, instead of using all the features, a random subset of features is selected, further randomizing the tree.\n",
    "\n",
    "As a result, the bias of the forest increases slightly, but due to the averaging of less correlated trees, its variance decreases, resulting in an overall better model.\n",
    "\n",
    "\n",
    "![alt text](algo_random_forest.png )\n",
    "<p style=\"text-align: center;\">Figure 3. Random Forest Algorithm.</p>\n",
    "\n",
    "\n",
    "![alt text](random_forest.png )\n",
    "<p style=\"text-align: center;\">Figure 4. Example of classification of one sample by the trees on a random forest with n trees.</p>"
   ]
  },
  {
   "cell_type": "markdown",
   "metadata": {},
   "source": [
    "In an extremely randomized trees algorithm randomness goes one step further: the splitting thresholds are randomized. Instead of looking for the most discriminative threshold, thresholds are drawn at random for each candidate feature and the best of these randomly-generated thresholds is picked as the splitting rule. This usually allows reduction of the variance of the model a bit more, at the expense of a slightly greater increase in bias."
   ]
  },
  {
   "cell_type": "code",
   "execution_count": 3,
   "metadata": {},
   "outputs": [
    {
     "name": "stdout",
     "output_type": "stream",
     "text": [
      "The accuracy of using Random Forest is: 0.914215686275\n"
     ]
    }
   ],
   "source": [
    "from sklearn.ensemble import RandomForestClassifier\n",
    "\n",
    "# import some data to play with\n",
    "iris = datasets.load_iris()\n",
    "X = iris.data[:, 1:3]  # we only take the first 3 features.\n",
    "y = iris.target\n",
    "\n",
    "rf = RandomForestClassifier(random_state=1)\n",
    "rf.fit(X,y)\n",
    "scores_rf = cross_val_score(rf, X, y)\n",
    "print(\"The accuracy of using Random Forest is:\",scores_rf.mean())"
   ]
  },
  {
   "cell_type": "code",
   "execution_count": 4,
   "metadata": {},
   "outputs": [
    {
     "data": {
      "text/plain": [
       "<matplotlib.text.Text at 0x7f142528c0b8>"
      ]
     },
     "execution_count": 4,
     "metadata": {},
     "output_type": "execute_result"
    },
    {
     "data": {
      "image/png": "[encoded data removed]",
      "text/plain": [
       "<matplotlib.figure.Figure at 0x7f14442596d8>"
      ]
     },
     "metadata": {},
     "output_type": "display_data"
    }
   ],
   "source": [
    "fig = plot_decision_regions(X=X, y=y, clf=rf)\n",
    "plt.title(\"Random Forest\")"
   ]
  },
  {
   "cell_type": "markdown",
   "metadata": {},
   "source": [
    "## Stacking\n",
    "\n",
    "**(Markos)**\n",
    "\n",
    "Stacking is an ensemble learning technique that combines multiple classification or regression models via a meta-classifier or a meta-regressor. The base level models are trained based on a complete training set, then the meta-model is trained on the outputs of the base level model as features.\n",
    "\n",
    "The base level often consists of different learning algorithms and therefore stacking ensembles are often heterogeneous. The algorithm below summarizes stacking."
   ]
  },
  {
   "cell_type": "markdown",
   "metadata": {},
   "source": [
    "![alt text](algo_stacking.png )\n",
    "<p style=\"text-align: center;\">Figure 5. Stacking algorithm.</p>\n",
    "\n",
    "The following example consists of k-NN, Random Forest, and Naive Bayes base classifiers whose predictions are combined by Logistic Regression as a meta-classifier. We can see the blending of decision boundaries achieved by the stacking classifier. The figure also shows that stacking achieves higher accuracy than individual classifiers and based on learning curves, it shows no signs of overfitting.\n",
    "\n",
    "Finally it is important to mention that stacking is a commonly used technique for winning the Kaggle data science competition."
   ]
  },
  {
   "cell_type": "code",
   "execution_count": 5,
   "metadata": {},
   "outputs": [
    {
     "name": "stdout",
     "output_type": "stream",
     "text": [
      "3-fold cross validation:\n",
      "\n",
      "Accuracy: 0.91 (+/- 0.01) [KNN]\n",
      "Accuracy: 0.91 (+/- 0.06) [Random Forest]\n",
      "Accuracy: 0.92 (+/- 0.03) [Naive Bayes]\n",
      "Accuracy: 0.95 (+/- 0.03) [StackingClassifier]\n"
     ]
    }
   ],
   "source": [
    "from sklearn import model_selection\n",
    "from sklearn import tree\n",
    "from sklearn import metrics\n",
    "from sklearn import ensemble\n",
    "from sklearn.ensemble import BaggingClassifier\n",
    "from sklearn.model_selection import cross_val_score\n",
    "import matplotlib.pyplot as plt\n",
    "from sklearn import model_selection\n",
    "from sklearn.linear_model import LogisticRegression\n",
    "from sklearn.neighbors import KNeighborsClassifier\n",
    "from sklearn.naive_bayes import GaussianNB \n",
    "from sklearn.ensemble import RandomForestClassifier\n",
    "from mlxtend.classifier import StackingClassifier\n",
    "import numpy as np\n",
    "import pandas as pd\n",
    "\n",
    "from sklearn import datasets\n",
    "\n",
    "iris = datasets.load_iris()\n",
    "X, y = iris.data[:, 1:3], iris.target\n",
    "\n",
    "clf1 = KNeighborsClassifier(n_neighbors=1)\n",
    "clf2 = RandomForestClassifier(random_state=1)\n",
    "clf3 = GaussianNB()\n",
    "lr = LogisticRegression()\n",
    "sclf = StackingClassifier(classifiers=[clf1, clf2, clf3], \n",
    "                          meta_classifier=lr)\n",
    "\n",
    "print('3-fold cross validation:\\n')\n",
    "\n",
    "for clf, label in zip([clf1, clf2, clf3, sclf], \n",
    "                      ['KNN', \n",
    "                       'Random Forest', \n",
    "                       'Naive Bayes',\n",
    "                       'StackingClassifier']):\n",
    "\n",
    "    scores = model_selection.cross_val_score(clf, X, y, \n",
    "                                              cv=3, scoring='accuracy')\n",
    "    print(\"Accuracy: %0.2f (+/- %0.2f) [%s]\" \n",
    "          % (scores.mean(), scores.std(), label))"
   ]
  },
  {
   "cell_type": "code",
   "execution_count": 6,
   "metadata": {},
   "outputs": [
    {
     "data": {
      "image/png": "[encoded data removed]",
      "text/plain": [
       "<matplotlib.figure.Figure at 0x7f1444256048>"
      ]
     },
     "metadata": {},
     "output_type": "display_data"
    }
   ],
   "source": [
    "%matplotlib inline\n",
    "gs = gridspec.GridSpec(2, 2)\n",
    "\n",
    "fig = plt.figure(figsize=(13,9))\n",
    "\n",
    "for clf, lab, grd in zip([clf1, clf2, clf3, sclf], \n",
    "                         ['KNN', \n",
    "                          'Random Forest', \n",
    "                          'Naive Bayes',\n",
    "                          'StackingClassifier'],\n",
    "                          itertools.product([0, 1], repeat=2)):\n",
    "\n",
    "    clf.fit(X, y)\n",
    "    ax = plt.subplot(gs[grd[0], grd[1]])\n",
    "    fig = plot_decision_regions(X=X, y=y, clf=clf)\n",
    "    plt.title(lab)"
   ]
  },
  {
   "cell_type": "markdown",
   "metadata": {},
   "source": [
    "## Boosting\n",
    "\n",
    "### AdaBoost \n",
    "\n",
    "**(Indra)**\n",
    "\n",
    "Adaboosting is an ensemble method that creates a strong classifier from a number of week classifiers. A week classifier performs poorly, but better than guessing.\n",
    "\n",
    "The most suited and therefore most common algorithm used with AdaBoost are decision trees with one level. Because these trees are so short and only contain one decision for classification, they are often called decision stumps. But Adaboost can be applied to any classification algorithm.\n",
    "\n",
    "Adaboost trains several weak classifiers on different random subsets of training data. After each training Adaboost assigns a weight to each traing data point, so that data points with higher weights will have a higher probability of being included in the next training subset. From each training, the examples that were misclassified, are assigned higher weight, so they will have a higher probability of being corrected in the next training. (Before the first training all data points are assigned equal probability.)\n",
    "\n",
    "![alt text](algo_boosting.png)\n",
    "<p style=\"text-align: center;\">Figure 6. Adaboost algorithm.</p>\n",
    "\n",
    "After all the classidiers are trained, they are each given weights based on their accuracies. Classifiers with 50% accuracies are assigned weight zero (because 50% accuracy is the same as guessing), classifiers with higher than 50% accuracies are assigned weights larger than zero, and classifiers with less than 50% accuracies are assigned negative weights (because they predict the opposite of correct). \n",
    "\n",
    "$w_0(x_i)=1/N$ - weights before training the first model\n",
    "\n",
    "Create classifier $h_j(x), i=j,..,K$ from the training subset.\n",
    "\n",
    "Then compute the output weight for that classifier: $\\alpha_j=\\frac{1}{2}\\ln\\big(\\frac{1-\\epsilon_{j}}{ \\epsilon_{j}}\\big)$\n",
    "\n",
    "After computing the classfier weight, we then compute weights for each training data point. \n",
    "\n",
    "$\n",
    "w_j(x_i)=\\frac{w_{j-1}(x_i) e^{- y_i \\alpha_j h_j(x_i)}}{Z_j}\n",
    "$\n",
    "\n",
    "$w_j$ is a vector of weights for each point in the training data set. \n",
    "\n",
    "$Z_j=\\sum_i w_j(x_i)$ is the sum of all weights, used to normalize the weights so that they sum up to $1$."
   ]
  },
  {
   "cell_type": "markdown",
   "metadata": {},
   "source": [
    "$\\alpha_j=\\frac{1}{2}\\ln\\big(\\frac{1-\\epsilon_{j}}{ \\epsilon_{j}}\\big)$"
   ]
  },
  {
   "cell_type": "code",
   "execution_count": 7,
   "metadata": {
    "collapsed": true
   },
   "outputs": [],
   "source": [
    "import numpy as np\n",
    "from sklearn import model_selection\n",
    "from sklearn import tree\n",
    "from sklearn import metrics\n",
    "from sklearn import ensemble\n",
    "from sklearn.ensemble import AdaBoostClassifier\n",
    "from sklearn.model_selection import cross_val_score"
   ]
  },
  {
   "cell_type": "code",
   "execution_count": 8,
   "metadata": {
    "collapsed": true
   },
   "outputs": [],
   "source": [
    "iris = datasets.load_iris()\n",
    "X, y = iris.data[:, 1:3], iris.target"
   ]
  },
  {
   "cell_type": "code",
   "execution_count": 9,
   "metadata": {},
   "outputs": [
    {
     "data": {
      "text/plain": [
       "0.94730392156862742"
      ]
     },
     "execution_count": 9,
     "metadata": {},
     "output_type": "execute_result"
    }
   ],
   "source": [
    "ab = AdaBoostClassifier(tree.DecisionTreeClassifier(random_state=0),algorithm=\"SAMME\",n_estimators=200)\n",
    "ab.fit(X, y)\n",
    "scores_ab = cross_val_score(clf, X, y)\n",
    "scores_ab.mean()  "
   ]
  },
  {
   "cell_type": "code",
   "execution_count": 10,
   "metadata": {},
   "outputs": [
    {
     "name": "stdout",
     "output_type": "stream",
     "text": [
      "The accuracy of using AdaBoost technique is: 0.947303921569\n"
     ]
    },
    {
     "data": {
      "text/plain": [
       "<matplotlib.text.Text at 0x7f1425541828>"
      ]
     },
     "execution_count": 10,
     "metadata": {},
     "output_type": "execute_result"
    },
    {
     "data": {
      "image/png": "[encoded data removed]",
      "text/plain": [
       "<matplotlib.figure.Figure at 0x7f1444325588>"
      ]
     },
     "metadata": {},
     "output_type": "display_data"
    }
   ],
   "source": [
    "print(\"The accuracy of using AdaBoost technique is:\",scores_ab.mean())\n",
    "fig = plot_decision_regions(X=X, y=y, clf=ab)\n",
    "plt.title(\"AdaBoost\")"
   ]
  },
  {
   "cell_type": "markdown",
   "metadata": {},
   "source": [
    "### Gradient Boosting\n",
    "\n",
    "**(Gonzalo)**\n",
    "\n",
    "Gradient Tree Boosting or Gradient Boosted Regression Trees (GBRT) is a generalization of boosting to arbitrary differentiable loss functions. GBRT is an accurate and effective off-the-shelf procedure that can be used for both regression and classification problems.\n",
    "\n",
    "In Gradient Boosting each model is weighted by the residual of the model trained before. \n",
    "\n",
    "*Note: Extreme gradient boosting technique, the famous classifier winner of the majority of competitions) is just a simple random projection followed by a non-linearity and a straight forward least squares optimization.*\n",
    "\n",
    "![alt text](algo_gradient_boosting.png)\n",
    "<p style=\"text-align: center;\">Figure 7. Gradient Boosting algorithm.</p>"
   ]
  },
  {
   "cell_type": "code",
   "execution_count": 11,
   "metadata": {
    "scrolled": true
   },
   "outputs": [
    {
     "name": "stdout",
     "output_type": "stream",
     "text": [
      "The accuracy of using Gradient Boosting technique is: 0.90114379085\n"
     ]
    },
    {
     "data": {
      "text/plain": [
       "<matplotlib.text.Text at 0x7f13fe90d4a8>"
      ]
     },
     "execution_count": 11,
     "metadata": {},
     "output_type": "execute_result"
    },
    {
     "data": {
      "image/png": "[encoded data removed]",
      "text/plain": [
       "<matplotlib.figure.Figure at 0x7f13fe94afd0>"
      ]
     },
     "metadata": {},
     "output_type": "display_data"
    }
   ],
   "source": [
    "from sklearn.ensemble import GradientBoostingClassifier\n",
    "\n",
    "iris = datasets.load_iris()\n",
    "X, y = iris.data[:, 1:3], iris.target\n",
    "\n",
    "gb = GradientBoostingClassifier(n_estimators=100, learning_rate=1.0, max_depth=1, random_state=0)\n",
    "gb.fit(X,y)\n",
    "scores_gb = cross_val_score(gb, X, y)\n",
    "print(\"The accuracy of using Gradient Boosting technique is:\",scores_gb.mean())\n",
    "fig = plot_decision_regions(X=X, y=y, clf=gb)\n",
    "plt.title(\"Gradient Boosting\")"
   ]
  },
  {
   "cell_type": "markdown",
   "metadata": {},
   "source": [
    "### Random Subspace Method (RSM)\n",
    "\n",
    "**(Toni)**\n",
    "\n",
    "The Random Subspace Method (RSM) [1] randomly selects an arbitrary number of subspace from the original feature space, and build a classifier on each subspace. This randomization should create classifiers that are complementary. The combination can be carried out by simple fixed rules. Experimental evidences showed that RSM works well with feature spaces with large feature sets and redundant features. It avoids the curse of dimensionality. The concepts of RSM can be related to the theory of stochastic discrimination of Kleinberg [2].\n",
    "\n",
    "![alt text](algo_RSM.png )\n",
    "<p style=\"text-align: center;\">Figure 8. Random Subspace Method algorithm.</p>\n",
    "\n",
    "The algorithm projects each feature vector into a less dimensional subspace, by selecting m random components. RSM is similar to Bagging but instead of sampling objects, it performs a kind of feature sampling withouth replacement since it would be useless to include one feature more than once. "
   ]
  },
  {
   "cell_type": "markdown",
   "metadata": {},
   "source": [
    "### Random Subspace Method (RSM)\n",
    "\n",
    "**(Toni)**\n",
    "\n",
    "The Random Subspace Method (RSM) [1] randomly selects an arbitrary number of subspace from the original feature space, and build a classifier on each subspace. This randomization should create classifiers that are complementary. The combination can be carried out by simple fixed rules. Experimental evidences showed that RSM works well with feature spaces with large feature sets and redundant features. It avoids the curse of dimensionality. The concepts of RSM can be related to the theory of stochastic discrimination of Kleinberg [2].\n",
    "\n",
    "![alt text](algo_RSM.png )\n",
    "<p style=\"text-align: center;\">Figure 8. Random Subspace Method algorithm.</p>\n",
    "\n",
    "The algorithm projects each feature vector into a less dimensional subspace, by selecting m random components. RSM is similar to Bagging but instead of sampling objects, it performs a kind of feature sampling withouth replacement since it would be useless to include one feature more than once. "
   ]
  },
  {
   "cell_type": "markdown",
   "metadata": {},
   "source": [
    "#### References:\n",
    "\n",
    "[1] T. K. Ho, “The random subspace method for constructing decision forests,” IEEE Trans. Pattern Analysis and Machine Intelligence, vol. 20, no. 8, pp. 832–844, 1998.\n",
    "\n",
    "[2] E. M. Kleinberg, “On the algorithmic implementation of stochastic discrimination,” IEEE Trans. Pattern Analysis and Machine Intelligence, vol. 22, no. 5, pp. 473–490, 2000."
   ]
  },
  {
   "cell_type": "markdown",
   "metadata": {},
   "source": [
    "### Bayesian Voting\n",
    "\n",
    "**(Giuseppe)**\n",
    "\n",
    "In a Bayesian probabilistic setting, each hypothesis *h* defines a conditional probability distribution: $ h(x) = P (f(x) = y | x, h)$. Given a new data point x and a training sample S, the problem of predicting the value of $f(x)$ can be viewed as the problem of computing $P (f(x)=y | S, x) $.\n",
    "We can rewrite this as weighted sum over all hypotheses in H: $ P (f(x) = y | S,x) = \\sum _{h \\in H} {h(x) P(h|S)}$ . \n",
    "\n",
    "*\"We can view this as an ensemble method in which the ensemble consists of all of\n",
    "the hypotheses in H each weighted by its posterior probability $ P(h|S) $ .\" *[1]\n",
    "\n",
    "\n",
    "Thanks to this definition, we can implement a bayesian voting as an ensemble technique by using distinct classifiers outputs as hypoteses, then choosing the hypotesys that reaches the highest probability.\n",
    "I'm going to show an example of it using sklearn VotingClassifier module, that works exactly as my idea, on the iris dataset to continue what already done by my classmates.\n"
   ]
  },
  {
   "cell_type": "markdown",
   "metadata": {},
   "source": [
    "** References **\n",
    "\n",
    "[1] Dietterich, Thomas G. \"Ensemble methods in machine learning.\" Multiple classifier systems 1857 (2000): 1-15."
   ]
  },
  {
   "cell_type": "code",
   "execution_count": 14,
   "metadata": {},
   "outputs": [
    {
     "name": "stdout",
     "output_type": "stream",
     "text": [
      "The accuracy of using NB is: 0.899509803922\n",
      "The accuracy of using LR is: 0.907679738562\n",
      "The accuracy of using NB is: 0.920751633987\n",
      "The accuracy of using simple voting is: 0.940767973856\n",
      "The accuracy of using soft voting is: 0.912990196078\n"
     ]
    }
   ],
   "source": [
    "from sklearn.neighbors import KNeighborsClassifier\n",
    "from sklearn.ensemble import VotingClassifier\n",
    "from sklearn import datasets\n",
    "from sklearn import tree\n",
    "from sklearn.model_selection import cross_val_score\n",
    "\n",
    "# import some data to play with\n",
    "iris = datasets.load_iris()\n",
    "X = iris.data[:, 1:3]  # we only take the first two features.\n",
    "y = iris.target\n",
    "\n",
    "# Decision Tree \n",
    "clf_tree = tree.DecisionTreeClassifier(random_state=1)\n",
    "clf_tree.fit(X, y)\n",
    "probabDT = clf_tree.predict_proba(X)\n",
    "scoresDT = cross_val_score(clf_tree, X, y)\n",
    "print(\"The accuracy of using NB is:\",scoresDT.mean())\n",
    "\n",
    "\n",
    "# Logistic Regression \n",
    "clfLr = LogisticRegression(random_state=1)\n",
    "clfLr.fit(X, y)\n",
    "probabLR = clfLr.predict_proba(X)\n",
    "scoresLr = cross_val_score(clfLr, X, y)\n",
    "print(\"The accuracy of using LR is:\",scoresLr.mean())\n",
    "\n",
    "\n",
    "# Naive Bayes \n",
    "clfNb = GaussianNB()\n",
    "clfNb.fit(X, y)\n",
    "probabNb = clfNb.predict_proba(X)\n",
    "scoresNb = cross_val_score(clfNb, X, y)\n",
    "print(\"The accuracy of using NB is:\",scoresNb.mean())\n",
    "\n",
    "#Hard Voting Classifier\n",
    "eclf1 = VotingClassifier(estimators=[('dt', clf_tree), ('lr', clfLr), ('nb',clfNb)], voting='hard')\n",
    "eclf1.fit(X, y)\n",
    "scores_Vot1 = cross_val_score(eclf1, X, y)\n",
    "print(\"The accuracy of using simple voting is:\",scores_Vot1.mean())\n",
    "\n",
    "#Soft Voting Classifier\n",
    "\n",
    "eclf2 = VotingClassifier(estimators=[('dt', clf_tree), ('lr', clfLr), ('nb',clfNb)], voting='soft')\n",
    "eclf2.fit(X, y)\n",
    "scores_Vot2 = cross_val_score(eclf2, X, y,scoring='accuracy')\n",
    "print(\"The accuracy of using soft voting is:\",scores_Vot2.mean())\n",
    "    \n",
    "\n",
    "\n"
   ]
  },
  {
   "cell_type": "code",
   "execution_count": 16,
   "metadata": {},
   "outputs": [
    {
     "name": "stdout",
     "output_type": "stream",
     "text": [
      "The accuracy of using my own bayesian voting and 10-Fold CV is: 0.893333333333\n"
     ]
    }
   ],
   "source": [
    "from sklearn.exceptions import NotFittedError\n",
    "from sklearn.utils import check_array\n",
    "from sklearn.base import BaseEstimator\n",
    "\n",
    "class bayesVoting(BaseEstimator):\n",
    "    def __init__(self, estimators):\n",
    "        self.estimators = estimators\n",
    "        self.isFitted = False\n",
    "        \n",
    "    def fit(self, X, y):\n",
    "        estimators = []\n",
    "        for estimator in self.estimators:\n",
    "            estimator.fit(X, y)\n",
    "            estimators.append(estimator)\n",
    "        self.isFitted = True\n",
    "        self.X = X\n",
    "        self.y = y\n",
    "        self.estimators = estimators\n",
    "    \n",
    "    def fit_transform(self, X, y):\n",
    "        for estimator in self.estimators:\n",
    "            estimator.fit_transform(X, y)\n",
    "        self.isFitted = True\n",
    "        self.X = X\n",
    "        self.y = y\n",
    "    \n",
    "    def _getProbabilities(self, X):\n",
    "        def _getProbsFromBinary(X, estimator):\n",
    "            outputClasses = estimator.predict(X)\n",
    "            allClasses = set(self.y)\n",
    "            probabs = np.zeros(shape=(len(X),len(allClasses)))\n",
    "            \n",
    "            for i in range(len(X)):\n",
    "                outputClass = outputClasses[i]\n",
    "                probabs[i][outputClass] = 1\n",
    "            return outputClasses\n",
    "            \n",
    "        sumProbs = []\n",
    "        for estimator in self.estimators:\n",
    "            try:\n",
    "                estProbs = estimator.predict_proba(X)\n",
    "            except AttributeError:\n",
    "                estProbs = _getProbsFromBinary(X=X, estimator=estimator)\n",
    "            sumProbs = sum(sumProbs,[estProbs])\n",
    "        return sumProbs[0]\n",
    "    \n",
    "    def predict(self, X):\n",
    "        X = check_array(X, accept_sparse='csr')\n",
    "        if not self.isFitted:\n",
    "            raise NotFittedError\n",
    "            return\n",
    "        estimatedProbs = self._getProbabilities(X=X)\n",
    "        predictedClasses = np.zeros(len(estimatedProbs))\n",
    "        for i in range (len(estimatedProbs)):\n",
    "            predictedClasses[i] = list(estimatedProbs[i]).index(np.max(estimatedProbs[i]))\n",
    "        return predictedClasses\n",
    "        \n",
    "    def predict_proba(self, X):\n",
    "        if not self.isFitted:\n",
    "            raise NotFittedError\n",
    "            return\n",
    "        estimatedProbs = self._getProbabilities(X)\n",
    "        return np.array(estimatedProbs)/len(self.estimators)\n",
    "\n",
    "bv = bayesVoting(estimators=[clf_tree, clfLr, clfNb])\n",
    "bv.fit(X, y)\n",
    "#accuracy_score(y_true=y,y_pred=bv.predict(X))\n",
    "scores_Vot3 = cross_val_score(bv, X, y,scoring='accuracy',cv=10)\n",
    "print(\"The accuracy of using my own bayesian voting and 10-Fold CV is:\",scores_Vot3.mean())"
   ]
  }
 ],
 "metadata": {
  "kernelspec": {
   "display_name": "Python 3",
   "language": "python",
   "name": "python3"
  },
  "language_info": {
   "codemirror_mode": {
    "name": "ipython",
    "version": 3
   },
   "file_extension": ".py",
   "mimetype": "text/x-python",
   "name": "python",
   "nbconvert_exporter": "python",
   "pygments_lexer": "ipython3",
   "version": "3.6.4"
  }
 },
 "nbformat": 4,
 "nbformat_minor": 2
}
